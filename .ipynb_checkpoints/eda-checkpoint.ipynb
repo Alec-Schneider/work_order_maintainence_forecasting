{
 "cells": [
  {
   "cell_type": "code",
   "execution_count": 1,
   "id": "c7874724-fdba-471d-98ca-69dfe08664d6",
   "metadata": {},
   "outputs": [],
   "source": [
    "import pandas as pd\n",
    "import numpy as np\n",
    "import matplotlib.pyplot as plt\n",
    "import seaborn as sns\n",
    "pd.set_option('display.max_rows', 500)\n",
    "pd.set_option('display.max_columns', 500)\n",
    "pd.set_option('display.float_format', lambda x: '%.3f' % x)"
   ]
  },
  {
   "cell_type": "code",
   "execution_count": 2,
   "id": "ebb61295-b913-44fd-83db-296039b68a70",
   "metadata": {},
   "outputs": [
    {
     "name": "stderr",
     "output_type": "stream",
     "text": [
      "C:\\Users\\Alec\\AppData\\Roaming\\Python\\Python37\\site-packages\\IPython\\core\\interactiveshell.py:3166: DtypeWarning: Columns (0,7,23) have mixed types.Specify dtype option on import or set low_memory=False.\n",
      "  interactivity=interactivity, compiler=compiler, result=result)\n"
     ]
    }
   ],
   "source": [
    "raw = pd.read_csv(\"./data/work_order_data.csv\")"
   ]
  },
  {
   "cell_type": "code",
   "execution_count": 5,
   "id": "6925bb68-5ed9-4ce6-87a5-ec5d8c29c428",
   "metadata": {
    "tags": []
   },
   "outputs": [
    {
     "name": "stdout",
     "output_type": "stream",
     "text": [
      "<class 'pandas.core.frame.DataFrame'>\n",
      "RangeIndex: 324438 entries, 0 to 324437\n",
      "Data columns (total 39 columns):\n",
      " #   Column                      Non-Null Count   Dtype  \n",
      "---  ------                      --------------   -----  \n",
      " 0   WO#                         324438 non-null  object \n",
      " 1   Property Number             324438 non-null  object \n",
      " 2   Specialty                   324430 non-null  object \n",
      " 3   Date/Time Created           324438 non-null  object \n",
      " 4   Total Charged Amount        324438 non-null  object \n",
      " 5   Portfolio                   324438 non-null  object \n",
      " 6   Priority                    324438 non-null  object \n",
      " 7   Customer GL Account Code    276766 non-null  object \n",
      " 8   Work Description            324438 non-null  object \n",
      " 9   Work Order Address          324397 non-null  object \n",
      " 10  District                    323397 non-null  object \n",
      " 11  Region                      323397 non-null  object \n",
      " 12  Date/Time Completed - Last  294518 non-null  object \n",
      " 13  Status                      324438 non-null  object \n",
      " 14  Organization                292178 non-null  object \n",
      " 15  Item Asset                  324437 non-null  object \n",
      " 16  Item Asset Model            324437 non-null  object \n",
      " 17  Type Category               324438 non-null  object \n",
      " 18  Type                        324438 non-null  object \n",
      " 19  Total Cost                  324438 non-null  object \n",
      " 20  Work Order Address 2        166636 non-null  object \n",
      " 21  Work Order City             324327 non-null  object \n",
      " 22  Work Order State/Prov.      324327 non-null  object \n",
      " 23  Work Order Zip/Postal Code  324327 non-null  object \n",
      " 24  Repair Category             11355 non-null   object \n",
      " 25  Repair Code                 11327 non-null   object \n",
      " 26  Property Name               324438 non-null  object \n",
      " 27  Reason                      31895 non-null   object \n",
      " 28  Reason Note                 270706 non-null  object \n",
      " 29  Total Labor Hours           45055 non-null   float64\n",
      " 30  Created to Picked Up        324438 non-null  object \n",
      " 31  Created to Started          324438 non-null  object \n",
      " 32  Total Labor Cost            324438 non-null  object \n",
      " 33  Total Services Cost         324438 non-null  object \n",
      " 34  Total Materials Cost        324438 non-null  object \n",
      " 35  Total Spot Purchase Cost    324438 non-null  object \n",
      " 36  Total Miscellaneous Cost    324438 non-null  object \n",
      " 37  Description                 324397 non-null  object \n",
      " 38  Specialty Group             321623 non-null  object \n",
      "dtypes: float64(1), object(38)\n",
      "memory usage: 96.5+ MB\n"
     ]
    }
   ],
   "source": [
    "raw.info()"
   ]
  },
  {
   "cell_type": "code",
   "execution_count": 6,
   "id": "74f94585-e50e-4090-a528-ba06a383d20f",
   "metadata": {},
   "outputs": [],
   "source": [
    "def clean_currency(x):\n",
    "    \"\"\" If the value is a string, then remove currency symbol and delimiters\n",
    "    otherwise, the value is numeric and can be converted\n",
    "    \"\"\"\n",
    "    if isinstance(x, str):\n",
    "        return(x.replace('$', '').replace(',', '').replace(\"(\", \"\").replace(\")\", \"\"))\n",
    "    return(x)"
   ]
  },
  {
   "cell_type": "code",
   "execution_count": 7,
   "id": "6c52f924-abec-41a3-9b96-43f355a5c138",
   "metadata": {},
   "outputs": [],
   "source": [
    "convrted_col_names = ['_'.join(col.lower().replace(\".\", \"\").replace(\"/\", \" \").replace(\"-\", \"\").split(\" \")) \n",
    "                      for col in  raw.columns.tolist()]\n",
    "raw.columns = convrted_col_names"
   ]
  },
  {
   "cell_type": "code",
   "execution_count": 8,
   "id": "15977c23-2061-4b39-afd9-5583456a7ea0",
   "metadata": {},
   "outputs": [],
   "source": [
    "currency_cols = [\"total_cost\", \"total_charged_amount\", \"total_labor_cost\", \"total_services_cost\", \"total_materials_cost\", \"total_spot_purchase_cost\", \"total_miscellaneous_cost\"]"
   ]
  },
  {
   "cell_type": "code",
   "execution_count": 9,
   "id": "67237479-7ccb-4e1a-ac43-cff0fafeffad",
   "metadata": {
    "tags": []
   },
   "outputs": [],
   "source": [
    "for col in currency_cols:\n",
    "    raw[col] = raw[col].apply(clean_currency).astype(float)"
   ]
  },
  {
   "cell_type": "code",
   "execution_count": 10,
   "id": "9a89704e-4229-468a-a3b1-daa6e66010e9",
   "metadata": {
    "tags": []
   },
   "outputs": [
    {
     "data": {
      "text/plain": [
       "wo#                            object\n",
       "property_number                object\n",
       "specialty                      object\n",
       "date_time_created              object\n",
       "total_charged_amount          float64\n",
       "portfolio                      object\n",
       "priority                       object\n",
       "customer_gl_account_code       object\n",
       "work_description               object\n",
       "work_order_address             object\n",
       "district                       object\n",
       "region                         object\n",
       "date_time_completed__last      object\n",
       "status                         object\n",
       "organization                   object\n",
       "item_asset                     object\n",
       "item_asset_model               object\n",
       "type_category                  object\n",
       "type                           object\n",
       "total_cost                    float64\n",
       "work_order_address_2           object\n",
       "work_order_city                object\n",
       "work_order_state_prov          object\n",
       "work_order_zip_postal_code     object\n",
       "repair_category                object\n",
       "repair_code                    object\n",
       "property_name                  object\n",
       "reason                         object\n",
       "reason_note                    object\n",
       "total_labor_hours             float64\n",
       "created_to_picked_up           object\n",
       "created_to_started             object\n",
       "total_labor_cost              float64\n",
       "total_services_cost           float64\n",
       "total_materials_cost          float64\n",
       "total_spot_purchase_cost      float64\n",
       "total_miscellaneous_cost      float64\n",
       "description                    object\n",
       "specialty_group                object\n",
       "dtype: object"
      ]
     },
     "execution_count": 10,
     "metadata": {},
     "output_type": "execute_result"
    }
   ],
   "source": [
    "raw.dtypes"
   ]
  },
  {
   "cell_type": "code",
   "execution_count": 11,
   "id": "803ee7bc-8c9e-4111-be0e-d03dcb55f1a1",
   "metadata": {},
   "outputs": [],
   "source": [
    "timestamp_cols = [\"date_time_created\", \"date_time_completed__last\"]\n",
    "for col in timestamp_cols:\n",
    "    raw[col] = pd.to_datetime(raw[col])"
   ]
  },
  {
   "cell_type": "code",
   "execution_count": 12,
   "id": "3c9bf608-1e9e-4e12-9259-e819547c1e98",
   "metadata": {},
   "outputs": [],
   "source": [
    "drop_cols = [\"customer_gl_account_code\", \"work_description\", \"work_order_address\",\n",
    "            \"work_order_address_2\", \"property_name\", \"reason_note\", \"description\"]\n",
    "\n",
    "raw = raw.drop(drop_cols, axis=1)"
   ]
  },
  {
   "cell_type": "code",
   "execution_count": 29,
   "id": "3678c27b-235a-47c5-98af-ed388d35a94c",
   "metadata": {},
   "outputs": [
    {
     "data": {
      "text/plain": [
       "wo#                                   object\n",
       "property_number                       object\n",
       "specialty                             object\n",
       "date_time_created             datetime64[ns]\n",
       "total_charged_amount                 float64\n",
       "portfolio                             object\n",
       "priority                              object\n",
       "district                              object\n",
       "region                                object\n",
       "date_time_completed__last     datetime64[ns]\n",
       "status                                object\n",
       "organization                          object\n",
       "item_asset                            object\n",
       "item_asset_model                      object\n",
       "type_category                         object\n",
       "type                                  object\n",
       "total_cost                           float64\n",
       "work_order_city                       object\n",
       "work_order_state_prov                 object\n",
       "work_order_zip_postal_code            object\n",
       "repair_category                       object\n",
       "repair_code                           object\n",
       "reason                                object\n",
       "total_labor_hours                    float64\n",
       "created_to_picked_up                  object\n",
       "created_to_started                    object\n",
       "total_labor_cost                     float64\n",
       "total_services_cost                  float64\n",
       "total_materials_cost                 float64\n",
       "total_spot_purchase_cost             float64\n",
       "total_miscellaneous_cost             float64\n",
       "specialty_group                       object\n",
       "dtype: object"
      ]
     },
     "execution_count": 29,
     "metadata": {},
     "output_type": "execute_result"
    }
   ],
   "source": [
    "raw.dtypes"
   ]
  },
  {
   "cell_type": "code",
   "execution_count": 32,
   "id": "30feb931-4c0c-44e0-a7c3-afc237aca5c1",
   "metadata": {},
   "outputs": [],
   "source": [
    "def clean_timestamps(x):\n",
    "    hours, minutes, seconds = x.split(\":\")\n",
    "    hours = int(hours) * 60 * 60\n",
    "    minutes = int(minutes) * 60\n",
    "    seconds = int(seconds)\n",
    "    return hours + minutes + seconds"
   ]
  },
  {
   "cell_type": "code",
   "execution_count": 37,
   "id": "de9f384d-2010-4773-8ab4-d41b68aa65e0",
   "metadata": {},
   "outputs": [],
   "source": [
    "raw['created_to_picked_up'] = raw['created_to_picked_up'].apply(clean_timestamps)"
   ]
  },
  {
   "cell_type": "code",
   "execution_count": 38,
   "id": "2c342d2b-4440-4a22-9b92-7bb94506b358",
   "metadata": {},
   "outputs": [],
   "source": [
    "raw['created_to_started'] = raw['created_to_started'].apply(clean_timestamps)"
   ]
  },
  {
   "cell_type": "code",
   "execution_count": 16,
   "id": "b1c1ae9b-8150-4d9e-972f-7c2216942ffe",
   "metadata": {},
   "outputs": [],
   "source": [
    "def sum_isna(x):\n",
    "    return np.sum(pd.isna(x))"
   ]
  },
  {
   "cell_type": "code",
   "execution_count": 13,
   "id": "a9105cfe-a8c3-46de-bd4e-93ee814adb6c",
   "metadata": {},
   "outputs": [
    {
     "name": "stdout",
     "output_type": "stream",
     "text": [
      "Summary Stats - Total Cost\n",
      "mean       69.743\n",
      "std       619.849\n",
      "amax    94417.240\n",
      "amin        0.000\n",
      "var    384212.687\n",
      "Name: total_cost, dtype: float64\n"
     ]
    }
   ],
   "source": [
    "print(\"Summary Stats - Total Cost\")\n",
    "print(raw[\"total_cost\"].agg([np.mean, np.std, np.max, np.min, np.var]))"
   ]
  },
  {
   "cell_type": "code",
   "execution_count": 14,
   "id": "36935ffb-ec31-4997-80eb-72f8a6094556",
   "metadata": {},
   "outputs": [],
   "source": [
    "raw[\"total_labor_hours\"] = raw[\"total_labor_hours\"].astype(float)\n",
    "raw[\"total_labor_hours\"].fillna(0, inplace=True)"
   ]
  },
  {
   "cell_type": "code",
   "execution_count": 15,
   "id": "59cd276f-db85-4a57-bf64-8e6b0032cacb",
   "metadata": {},
   "outputs": [
    {
     "name": "stdout",
     "output_type": "stream",
     "text": [
      "Summary Stats - Total Cost\n",
      "mean     0.549\n",
      "std      2.311\n",
      "amax   117.500\n",
      "amin     0.000\n",
      "var      5.341\n",
      "Name: total_labor_hours, dtype: float64\n"
     ]
    }
   ],
   "source": [
    "print(\"Summary Stats - Total Cost\")\n",
    "print(raw[\"total_labor_hours\"].agg([np.mean, np.std, np.max, np.min, np.var]))"
   ]
  },
  {
   "cell_type": "code",
   "execution_count": 30,
   "id": "14638532-2e53-4e77-9976-825ab6e77d5a",
   "metadata": {
    "tags": []
   },
   "outputs": [
    {
     "data": {
      "text/html": [
       "<div>\n",
       "<style scoped>\n",
       "    .dataframe tbody tr th:only-of-type {\n",
       "        vertical-align: middle;\n",
       "    }\n",
       "\n",
       "    .dataframe tbody tr th {\n",
       "        vertical-align: top;\n",
       "    }\n",
       "\n",
       "    .dataframe thead th {\n",
       "        text-align: right;\n",
       "    }\n",
       "</style>\n",
       "<table border=\"1\" class=\"dataframe\">\n",
       "  <thead>\n",
       "    <tr style=\"text-align: right;\">\n",
       "      <th></th>\n",
       "      <th>wo#</th>\n",
       "      <th>property_number</th>\n",
       "      <th>specialty</th>\n",
       "      <th>date_time_created</th>\n",
       "      <th>total_charged_amount</th>\n",
       "      <th>portfolio</th>\n",
       "      <th>priority</th>\n",
       "      <th>district</th>\n",
       "      <th>region</th>\n",
       "      <th>date_time_completed__last</th>\n",
       "      <th>status</th>\n",
       "      <th>organization</th>\n",
       "      <th>item_asset</th>\n",
       "      <th>item_asset_model</th>\n",
       "      <th>type_category</th>\n",
       "      <th>type</th>\n",
       "      <th>total_cost</th>\n",
       "      <th>work_order_city</th>\n",
       "      <th>work_order_state_prov</th>\n",
       "      <th>work_order_zip_postal_code</th>\n",
       "      <th>repair_category</th>\n",
       "      <th>repair_code</th>\n",
       "      <th>reason</th>\n",
       "      <th>total_labor_hours</th>\n",
       "      <th>created_to_picked_up</th>\n",
       "      <th>created_to_started</th>\n",
       "      <th>total_labor_cost</th>\n",
       "      <th>total_services_cost</th>\n",
       "      <th>total_materials_cost</th>\n",
       "      <th>total_spot_purchase_cost</th>\n",
       "      <th>total_miscellaneous_cost</th>\n",
       "      <th>specialty_group</th>\n",
       "    </tr>\n",
       "  </thead>\n",
       "  <tbody>\n",
       "    <tr>\n",
       "      <th>0</th>\n",
       "      <td>1289786</td>\n",
       "      <td>AHD-00014</td>\n",
       "      <td>PLUMBING</td>\n",
       "      <td>2011-01-01 09:04:00</td>\n",
       "      <td>280.400</td>\n",
       "      <td>North</td>\n",
       "      <td>P2</td>\n",
       "      <td>District 315</td>\n",
       "      <td>Region 031</td>\n",
       "      <td>2011-01-18 08:57:00</td>\n",
       "      <td>Completed</td>\n",
       "      <td>CW Services</td>\n",
       "      <td>MISTING SYSTEM|MISTING SYSTEM|</td>\n",
       "      <td>MISTING SYSTEM</td>\n",
       "      <td>Request</td>\n",
       "      <td>AutoReq</td>\n",
       "      <td>255.000</td>\n",
       "      <td>PEMBROKE</td>\n",
       "      <td>MA</td>\n",
       "      <td>2359</td>\n",
       "      <td>NaN</td>\n",
       "      <td>NaN</td>\n",
       "      <td>NaN</td>\n",
       "      <td>5.000</td>\n",
       "      <td>2:22:47</td>\n",
       "      <td>0:00:00</td>\n",
       "      <td>0.000</td>\n",
       "      <td>0.000</td>\n",
       "      <td>0.000</td>\n",
       "      <td>255.000</td>\n",
       "      <td>0.000</td>\n",
       "      <td>DTZ Hard Services</td>\n",
       "    </tr>\n",
       "    <tr>\n",
       "      <th>1</th>\n",
       "      <td>1289840</td>\n",
       "      <td>AHD-00487</td>\n",
       "      <td>PLUMBING</td>\n",
       "      <td>2011-01-01 09:19:00</td>\n",
       "      <td>367.360</td>\n",
       "      <td>North</td>\n",
       "      <td>P1</td>\n",
       "      <td>District 315</td>\n",
       "      <td>Region 031</td>\n",
       "      <td>2011-01-01 10:39:00</td>\n",
       "      <td>Completed</td>\n",
       "      <td>CW Services</td>\n",
       "      <td>MISTING SYSTEM|MISTING SYSTEM|</td>\n",
       "      <td>MISTING SYSTEM</td>\n",
       "      <td>Request</td>\n",
       "      <td>AutoReq</td>\n",
       "      <td>0.000</td>\n",
       "      <td>E. WEYMOUTH</td>\n",
       "      <td>MA</td>\n",
       "      <td>2189</td>\n",
       "      <td>NaN</td>\n",
       "      <td>NaN</td>\n",
       "      <td>NaN</td>\n",
       "      <td>4.000</td>\n",
       "      <td>0:00:21</td>\n",
       "      <td>0:00:00</td>\n",
       "      <td>0.000</td>\n",
       "      <td>0.000</td>\n",
       "      <td>0.000</td>\n",
       "      <td>0.000</td>\n",
       "      <td>0.000</td>\n",
       "      <td>DTZ Hard Services</td>\n",
       "    </tr>\n",
       "    <tr>\n",
       "      <th>2</th>\n",
       "      <td>1289640</td>\n",
       "      <td>AHD-00692</td>\n",
       "      <td>CARPENTRY</td>\n",
       "      <td>2011-01-01 10:19:00</td>\n",
       "      <td>53.600</td>\n",
       "      <td>Central</td>\n",
       "      <td>P3</td>\n",
       "      <td>District 325</td>\n",
       "      <td>Region 032</td>\n",
       "      <td>2011-01-11 11:21:00</td>\n",
       "      <td>Completed</td>\n",
       "      <td>CW Services</td>\n",
       "      <td>MISC CARP REPAIR|MISC CARP REPAIR|</td>\n",
       "      <td>MISC CARP REPAIR</td>\n",
       "      <td>Request</td>\n",
       "      <td>AutoReq</td>\n",
       "      <td>45.000</td>\n",
       "      <td>EAST HAVEN</td>\n",
       "      <td>CT</td>\n",
       "      <td>6512</td>\n",
       "      <td>NaN</td>\n",
       "      <td>NaN</td>\n",
       "      <td>NaN</td>\n",
       "      <td>2.000</td>\n",
       "      <td>1:21:25</td>\n",
       "      <td>0:00:00</td>\n",
       "      <td>0.000</td>\n",
       "      <td>0.000</td>\n",
       "      <td>0.000</td>\n",
       "      <td>45.000</td>\n",
       "      <td>0.000</td>\n",
       "      <td>DTZ Hard Services</td>\n",
       "    </tr>\n",
       "    <tr>\n",
       "      <th>3</th>\n",
       "      <td>1290036</td>\n",
       "      <td>AHD-00822</td>\n",
       "      <td>DOOR REPAIR</td>\n",
       "      <td>2011-01-01 15:49:00</td>\n",
       "      <td>5.000</td>\n",
       "      <td>South</td>\n",
       "      <td>P2</td>\n",
       "      <td>District 332</td>\n",
       "      <td>Region 033</td>\n",
       "      <td>2011-01-04 08:28:00</td>\n",
       "      <td>Completed</td>\n",
       "      <td>CW Services</td>\n",
       "      <td>DOOR-EMERGENCY EXIT|DOOR-EMERGENCY EXIT|612292</td>\n",
       "      <td>DOOR-EMERGENCY EXIT</td>\n",
       "      <td>Request</td>\n",
       "      <td>AutoReq</td>\n",
       "      <td>0.000</td>\n",
       "      <td>ELIZABETH</td>\n",
       "      <td>NJ</td>\n",
       "      <td>7208</td>\n",
       "      <td>NaN</td>\n",
       "      <td>NaN</td>\n",
       "      <td>NaN</td>\n",
       "      <td>1.750</td>\n",
       "      <td>2:16:35</td>\n",
       "      <td>0:00:00</td>\n",
       "      <td>0.000</td>\n",
       "      <td>0.000</td>\n",
       "      <td>0.000</td>\n",
       "      <td>0.000</td>\n",
       "      <td>0.000</td>\n",
       "      <td>DTZ Hard Services</td>\n",
       "    </tr>\n",
       "    <tr>\n",
       "      <th>4</th>\n",
       "      <td>1290125</td>\n",
       "      <td>AHD-00474</td>\n",
       "      <td>CARPENTRY</td>\n",
       "      <td>2011-01-01 17:34:00</td>\n",
       "      <td>5.000</td>\n",
       "      <td>North</td>\n",
       "      <td>P3</td>\n",
       "      <td>District 312</td>\n",
       "      <td>Region 031</td>\n",
       "      <td>2011-01-04 12:01:00</td>\n",
       "      <td>Completed</td>\n",
       "      <td>CW Services</td>\n",
       "      <td>CARPENTERS LIST|CARPENTERS LIST|</td>\n",
       "      <td>CARPENTERS LIST</td>\n",
       "      <td>Request</td>\n",
       "      <td>AutoReq</td>\n",
       "      <td>0.000</td>\n",
       "      <td>EAST WAREHAM</td>\n",
       "      <td>MA</td>\n",
       "      <td>2538</td>\n",
       "      <td>NaN</td>\n",
       "      <td>NaN</td>\n",
       "      <td>NaN</td>\n",
       "      <td>0.500</td>\n",
       "      <td>2:03:57</td>\n",
       "      <td>0:00:00</td>\n",
       "      <td>0.000</td>\n",
       "      <td>0.000</td>\n",
       "      <td>0.000</td>\n",
       "      <td>0.000</td>\n",
       "      <td>0.000</td>\n",
       "      <td>DTZ Hard Services</td>\n",
       "    </tr>\n",
       "  </tbody>\n",
       "</table>\n",
       "</div>"
      ],
      "text/plain": [
       "       wo# property_number    specialty   date_time_created  \\\n",
       "0  1289786       AHD-00014     PLUMBING 2011-01-01 09:04:00   \n",
       "1  1289840       AHD-00487     PLUMBING 2011-01-01 09:19:00   \n",
       "2  1289640       AHD-00692    CARPENTRY 2011-01-01 10:19:00   \n",
       "3  1290036       AHD-00822  DOOR REPAIR 2011-01-01 15:49:00   \n",
       "4  1290125       AHD-00474    CARPENTRY 2011-01-01 17:34:00   \n",
       "\n",
       "   total_charged_amount portfolio priority      district      region  \\\n",
       "0               280.400     North       P2  District 315  Region 031   \n",
       "1               367.360     North       P1  District 315  Region 031   \n",
       "2                53.600   Central       P3  District 325  Region 032   \n",
       "3                 5.000     South       P2  District 332  Region 033   \n",
       "4                 5.000     North       P3  District 312  Region 031   \n",
       "\n",
       "  date_time_completed__last     status organization  \\\n",
       "0       2011-01-18 08:57:00  Completed  CW Services   \n",
       "1       2011-01-01 10:39:00  Completed  CW Services   \n",
       "2       2011-01-11 11:21:00  Completed  CW Services   \n",
       "3       2011-01-04 08:28:00  Completed  CW Services   \n",
       "4       2011-01-04 12:01:00  Completed  CW Services   \n",
       "\n",
       "                                       item_asset     item_asset_model  \\\n",
       "0                  MISTING SYSTEM|MISTING SYSTEM|       MISTING SYSTEM   \n",
       "1                  MISTING SYSTEM|MISTING SYSTEM|       MISTING SYSTEM   \n",
       "2              MISC CARP REPAIR|MISC CARP REPAIR|     MISC CARP REPAIR   \n",
       "3  DOOR-EMERGENCY EXIT|DOOR-EMERGENCY EXIT|612292  DOOR-EMERGENCY EXIT   \n",
       "4                CARPENTERS LIST|CARPENTERS LIST|      CARPENTERS LIST   \n",
       "\n",
       "  type_category     type  total_cost work_order_city work_order_state_prov  \\\n",
       "0       Request  AutoReq     255.000        PEMBROKE                    MA   \n",
       "1       Request  AutoReq       0.000     E. WEYMOUTH                    MA   \n",
       "2       Request  AutoReq      45.000      EAST HAVEN                    CT   \n",
       "3       Request  AutoReq       0.000       ELIZABETH                    NJ   \n",
       "4       Request  AutoReq       0.000    EAST WAREHAM                    MA   \n",
       "\n",
       "  work_order_zip_postal_code repair_category repair_code reason  \\\n",
       "0                       2359             NaN         NaN    NaN   \n",
       "1                       2189             NaN         NaN    NaN   \n",
       "2                       6512             NaN         NaN    NaN   \n",
       "3                       7208             NaN         NaN    NaN   \n",
       "4                       2538             NaN         NaN    NaN   \n",
       "\n",
       "   total_labor_hours created_to_picked_up created_to_started  \\\n",
       "0              5.000              2:22:47            0:00:00   \n",
       "1              4.000              0:00:21            0:00:00   \n",
       "2              2.000              1:21:25            0:00:00   \n",
       "3              1.750              2:16:35            0:00:00   \n",
       "4              0.500              2:03:57            0:00:00   \n",
       "\n",
       "   total_labor_cost  total_services_cost  total_materials_cost  \\\n",
       "0             0.000                0.000                 0.000   \n",
       "1             0.000                0.000                 0.000   \n",
       "2             0.000                0.000                 0.000   \n",
       "3             0.000                0.000                 0.000   \n",
       "4             0.000                0.000                 0.000   \n",
       "\n",
       "   total_spot_purchase_cost  total_miscellaneous_cost    specialty_group  \n",
       "0                   255.000                     0.000  DTZ Hard Services  \n",
       "1                     0.000                     0.000  DTZ Hard Services  \n",
       "2                    45.000                     0.000  DTZ Hard Services  \n",
       "3                     0.000                     0.000  DTZ Hard Services  \n",
       "4                     0.000                     0.000  DTZ Hard Services  "
      ]
     },
     "execution_count": 30,
     "metadata": {},
     "output_type": "execute_result"
    }
   ],
   "source": [
    "raw.head(5)"
   ]
  },
  {
   "cell_type": "code",
   "execution_count": 40,
   "id": "38e419b1-f347-4857-8117-5dbd5306bedc",
   "metadata": {},
   "outputs": [],
   "source": [
    "check_unique_types = [\"wo#\", \"property_number\", \"specialty\", \"portfolio\", \"priority\", \"district\", \"region\", \"status\", \"organization\", \"item_asset_model\", \"type_category\", \"type\",\n",
    "                     \"work_order_city\", \"work_order_state_prov\", \"work_order_zip_postal_code\", \"repair_category\", \"repair_code\", \"reason\", \"specialty_group\"]"
   ]
  },
  {
   "cell_type": "code",
   "execution_count": 51,
   "id": "d89011e4-7da1-45ea-9325-46ac09c9a882",
   "metadata": {
    "collapsed": true,
    "jupyter": {
     "outputs_hidden": true
    },
    "tags": []
   },
   "outputs": [
    {
     "name": "stdout",
     "output_type": "stream",
     "text": [
      "wo#\n",
      "\n",
      "property_number\n",
      "\n",
      "specialty\n",
      "\n",
      "portfolio\n",
      "\n",
      "priority\n",
      "\n",
      "district\n",
      "\n",
      "region\n",
      "\n",
      "status\n",
      "\n",
      "organization\n",
      "\n",
      "item_asset_model\n",
      "\n",
      "type_category\n",
      "\n",
      "type\n",
      "\n",
      "work_order_city\n",
      "\n",
      "work_order_state_prov\n",
      "\n",
      "work_order_zip_postal_code\n",
      "\n",
      "repair_category\n",
      "\n",
      "repair_code\n",
      "\n",
      "reason\n",
      "\n",
      "specialty_group\n",
      "\n"
     ]
    }
   ],
   "source": [
    "category_details = {}\n",
    "\n",
    "for col in check_unique_types:\n",
    "    print(col, end=\"\\n\\n\")\n",
    "    d = {}\n",
    "    d[\"value_counts\"] = raw[col].value_counts().sort_values(ascending=False)\n",
    "    d[\"unique_values\"] =  raw[col].unique()\n",
    "    d[\"num_unique\"] = len(d[\"unique_values\"])\n",
    "    d[\"null_values\"] = raw[col].isna().sum()\n",
    "    category_details[col] = d"
   ]
  },
  {
   "cell_type": "code",
   "execution_count": 52,
   "id": "3eccb8fb-9a9a-4dec-8d2f-12992c1fa133",
   "metadata": {},
   "outputs": [],
   "source": [
    "import pickle\n",
    "\n",
    "with open(\"category_details_dict.pickle\", 'wb') as p:\n",
    "    pickle.dump(category_details, p)"
   ]
  },
  {
   "cell_type": "code",
   "execution_count": 116,
   "id": "c9b8d632-7b11-4501-8aae-64df9f4a1a57",
   "metadata": {},
   "outputs": [
    {
     "name": "stdout",
     "output_type": "stream",
     "text": [
      "Unique values for wo#: 324434\n",
      "Unique values for property_number: 758\n",
      "Unique values for specialty: 78\n",
      "Unique values for portfolio: 5\n",
      "Unique values for priority: 5\n",
      "Unique values for district: 47\n",
      "Unique values for region: 10\n",
      "Unique values for status: 2\n",
      "Unique values for organization: 188\n",
      "Unique values for item_asset_model: 364\n",
      "Unique values for type_category: 3\n",
      "Unique values for type: 6\n",
      "Unique values for work_order_city: 566\n",
      "Unique values for work_order_state_prov: 12\n",
      "Unique values for work_order_zip_postal_code: 1313\n",
      "Unique values for repair_category: 20\n",
      "Unique values for repair_code: 71\n",
      "Unique values for reason: 9\n",
      "Unique values for specialty_group: 6\n"
     ]
    }
   ],
   "source": [
    "for col in category_details:\n",
    "    print(f\"Unique values for {col}: {category_details[col]['num_unique']}\")"
   ]
  },
  {
   "cell_type": "code",
   "execution_count": 117,
   "id": "754a4a97-0c90-408f-8208-baf71455be05",
   "metadata": {},
   "outputs": [
    {
     "name": "stdout",
     "output_type": "stream",
     "text": [
      "Null values for wo#: 0\n",
      "Null values for property_number: 0\n",
      "Null values for specialty: 8\n",
      "Null values for portfolio: 0\n",
      "Null values for priority: 0\n",
      "Null values for district: 1041\n",
      "Null values for region: 1041\n",
      "Null values for status: 0\n",
      "Null values for organization: 32260\n",
      "Null values for item_asset_model: 1\n",
      "Null values for type_category: 0\n",
      "Null values for type: 0\n",
      "Null values for work_order_city: 111\n",
      "Null values for work_order_state_prov: 111\n",
      "Null values for work_order_zip_postal_code: 111\n",
      "Null values for repair_category: 313083\n",
      "Null values for repair_code: 313111\n",
      "Null values for reason: 292543\n",
      "Null values for specialty_group: 2815\n"
     ]
    }
   ],
   "source": [
    "for col in category_details:\n",
    "    print(f\"Null values for {col}: {category_details[col]['null_values']}\")"
   ]
  },
  {
   "cell_type": "code",
   "execution_count": 39,
   "id": "40f408a8-d479-4793-9e45-28daeb23d3a4",
   "metadata": {},
   "outputs": [
    {
     "data": {
      "text/plain": [
       "wo#                                   object\n",
       "property_number                       object\n",
       "specialty                             object\n",
       "date_time_created             datetime64[ns]\n",
       "total_charged_amount                 float64\n",
       "portfolio                             object\n",
       "priority                              object\n",
       "district                              object\n",
       "region                                object\n",
       "date_time_completed__last     datetime64[ns]\n",
       "status                                object\n",
       "organization                          object\n",
       "item_asset                            object\n",
       "item_asset_model                      object\n",
       "type_category                         object\n",
       "type                                  object\n",
       "total_cost                           float64\n",
       "work_order_city                       object\n",
       "work_order_state_prov                 object\n",
       "work_order_zip_postal_code            object\n",
       "repair_category                       object\n",
       "repair_code                           object\n",
       "reason                                object\n",
       "total_labor_hours                    float64\n",
       "created_to_picked_up                   int64\n",
       "created_to_started                     int64\n",
       "total_labor_cost                     float64\n",
       "total_services_cost                  float64\n",
       "total_materials_cost                 float64\n",
       "total_spot_purchase_cost             float64\n",
       "total_miscellaneous_cost             float64\n",
       "specialty_group                       object\n",
       "dtype: object"
      ]
     },
     "execution_count": 39,
     "metadata": {},
     "output_type": "execute_result"
    }
   ],
   "source": [
    "raw.dtypes"
   ]
  },
  {
   "cell_type": "code",
   "execution_count": 61,
   "id": "2e875116-f0fa-460a-9c40-3542cd05c40e",
   "metadata": {},
   "outputs": [
    {
     "name": "stdout",
     "output_type": "stream",
     "text": [
      "wo#                                0\n",
      "property_number                    0\n",
      "specialty                          8\n",
      "date_time_created                  0\n",
      "total_charged_amount               0\n",
      "portfolio                          0\n",
      "priority                           0\n",
      "district                        1041\n",
      "region                          1041\n",
      "date_time_completed__last      29920\n",
      "status                             0\n",
      "organization                   32260\n",
      "item_asset                         1\n",
      "item_asset_model                   1\n",
      "type_category                      0\n",
      "type                               0\n",
      "total_cost                         0\n",
      "work_order_city                  111\n",
      "work_order_state_prov            111\n",
      "work_order_zip_postal_code       111\n",
      "repair_category               313083\n",
      "repair_code                   313111\n",
      "reason                        292543\n",
      "total_labor_hours                  0\n",
      "created_to_picked_up               0\n",
      "created_to_started                 0\n",
      "total_labor_cost                   0\n",
      "total_services_cost                0\n",
      "total_materials_cost               0\n",
      "total_spot_purchase_cost           0\n",
      "total_miscellaneous_cost           0\n",
      "specialty_group                 2815\n",
      "dtype: int64\n",
      "wo#                          0.000\n",
      "property_number              0.000\n",
      "specialty                    0.000\n",
      "date_time_created            0.000\n",
      "total_charged_amount         0.000\n",
      "portfolio                    0.000\n",
      "priority                     0.000\n",
      "district                     0.003\n",
      "region                       0.003\n",
      "date_time_completed__last    0.092\n",
      "status                       0.000\n",
      "organization                 0.099\n",
      "item_asset                   0.000\n",
      "item_asset_model             0.000\n",
      "type_category                0.000\n",
      "type                         0.000\n",
      "total_cost                   0.000\n",
      "work_order_city              0.000\n",
      "work_order_state_prov        0.000\n",
      "work_order_zip_postal_code   0.000\n",
      "repair_category              0.965\n",
      "repair_code                  0.965\n",
      "reason                       0.902\n",
      "total_labor_hours            0.000\n",
      "created_to_picked_up         0.000\n",
      "created_to_started           0.000\n",
      "total_labor_cost             0.000\n",
      "total_services_cost          0.000\n",
      "total_materials_cost         0.000\n",
      "total_spot_purchase_cost     0.000\n",
      "total_miscellaneous_cost     0.000\n",
      "specialty_group              0.009\n",
      "dtype: float64\n"
     ]
    }
   ],
   "source": [
    "print(raw.isna().sum())\n",
    "print(raw.isna().sum() / raw.shape[0])"
   ]
  },
  {
   "cell_type": "code",
   "execution_count": 63,
   "id": "fb8f8c0b-074e-4698-a88a-e4f8a51a6e78",
   "metadata": {},
   "outputs": [
    {
     "name": "stdout",
     "output_type": "stream",
     "text": [
      "wo#                                0\n",
      "property_number                    0\n",
      "specialty                          1\n",
      "date_time_created                  0\n",
      "total_charged_amount               0\n",
      "portfolio                          0\n",
      "priority                           0\n",
      "district                         920\n",
      "region                           920\n",
      "date_time_completed__last          0\n",
      "status                             0\n",
      "organization                   26038\n",
      "item_asset                         0\n",
      "item_asset_model                   0\n",
      "type_category                      0\n",
      "type                               0\n",
      "total_cost                         0\n",
      "work_order_city                   86\n",
      "work_order_state_prov             86\n",
      "work_order_zip_postal_code        86\n",
      "repair_category               281731\n",
      "repair_code                   281754\n",
      "reason                        292543\n",
      "total_labor_hours                  0\n",
      "created_to_picked_up               0\n",
      "created_to_started                 0\n",
      "total_labor_cost                   0\n",
      "total_services_cost                0\n",
      "total_materials_cost               0\n",
      "total_spot_purchase_cost           0\n",
      "total_miscellaneous_cost           0\n",
      "specialty_group                 2671\n",
      "dtype: int64\n",
      "wo#                          0.000\n",
      "property_number              0.000\n",
      "specialty                    0.000\n",
      "date_time_created            0.000\n",
      "total_charged_amount         0.000\n",
      "portfolio                    0.000\n",
      "priority                     0.000\n",
      "district                     0.003\n",
      "region                       0.003\n",
      "date_time_completed__last    0.000\n",
      "status                       0.000\n",
      "organization                 0.080\n",
      "item_asset                   0.000\n",
      "item_asset_model             0.000\n",
      "type_category                0.000\n",
      "type                         0.000\n",
      "total_cost                   0.000\n",
      "work_order_city              0.000\n",
      "work_order_state_prov        0.000\n",
      "work_order_zip_postal_code   0.000\n",
      "repair_category              0.868\n",
      "repair_code                  0.868\n",
      "reason                       0.902\n",
      "total_labor_hours            0.000\n",
      "created_to_picked_up         0.000\n",
      "created_to_started           0.000\n",
      "total_labor_cost             0.000\n",
      "total_services_cost          0.000\n",
      "total_materials_cost         0.000\n",
      "total_spot_purchase_cost     0.000\n",
      "total_miscellaneous_cost     0.000\n",
      "specialty_group              0.008\n",
      "dtype: float64\n"
     ]
    }
   ],
   "source": [
    "print(raw[raw[\"status\"] != \"Cancelled\"].isna().sum())\n",
    "print(raw[raw[\"status\"] != \"Cancelled\"].isna().sum() / raw.shape[0])"
   ]
  },
  {
   "cell_type": "markdown",
   "id": "aeedbe06-4a31-419d-9929-026f53301022",
   "metadata": {},
   "source": [
    "### 187 Unique Organizations, withclean_timestamps dominating the WOs"
   ]
  },
  {
   "cell_type": "code",
   "execution_count": 17,
   "id": "b5339ac5-6443-4dfb-bb32-b1a3783759c1",
   "metadata": {},
   "outputs": [
    {
     "data": {
      "text/plain": [
       "FM Maintenance                              110833\n",
       "Baltic                                       71143\n",
       "CW Services                                  66114\n",
       "CSG INC                                       9926\n",
       "COMMERCIAL MAINTENANCE MANAGEMENT CORP.       4985\n",
       "SRK CLEANING                                  2976\n",
       "REMCO INC OF ALLENTOWN                        2754\n",
       "AA CLEANING CO. INC.                          2632\n",
       "TOTAL CLEANING SOLUTIONS INC.                 2570\n",
       "COAST TO COAST MAINTENANCE INC.               2361\n",
       "CRYSTAL COMMERCIAL CLEANING SERVICES LLC      1891\n",
       "HAMILTON CONTRACTING SERVICES INC             1375\n",
       "FEDERAL PAINTING INC                           929\n",
       "CYNAMIC INDUSTRIES LLC                         881\n",
       "GUARDIAN FIRE PROTECTION SERVICES LLC          775\n",
       "ABCO FIRE PROTECTION INC.                      655\n",
       "I-TECH LLC                                     594\n",
       "RENTOKIL NORTH AMERICA INC                     440\n",
       "GLYNN ELECTRIC INC.                            414\n",
       "Ahold                                          383\n",
       "ALARM ELECTRIC COMPANY LLC                     352\n",
       "TRI STATE HOOD & DUCT LLC.                     327\n",
       "MANGEAC BROS                                   309\n",
       "LLL SERVICES                                   306\n",
       "LPC INC                                        281\n",
       "Name: organization, dtype: int64"
      ]
     },
     "execution_count": 17,
     "metadata": {},
     "output_type": "execute_result"
    }
   ],
   "source": [
    "raw['organization'].value_counts()[:25]"
   ]
  },
  {
   "cell_type": "code",
   "execution_count": null,
   "id": "e04865bc-daf6-49f2-995e-377e81c1e585",
   "metadata": {},
   "outputs": [],
   "source": []
  },
  {
   "cell_type": "markdown",
   "id": "45af365c-f7fc-439d-90c3-993d279be8f3",
   "metadata": {},
   "source": [
    "### Specialty"
   ]
  },
  {
   "cell_type": "code",
   "execution_count": 69,
   "id": "d372e58e-7c78-4d91-91bb-4e959c82a571",
   "metadata": {},
   "outputs": [
    {
     "name": "stdout",
     "output_type": "stream",
     "text": [
      "Unique Specialties:  77\n",
      "REFRIGERATION                54255\n",
      "CLEANING                     33663\n",
      "FOOD EQUIP                   28302\n",
      "CARPENTRY                    28218\n",
      "Legacy Metrix Specialty      22168\n",
      "PLUMBING                     21929\n",
      "ELECTRICAL                   15798\n",
      "Food Equipment               12390\n",
      "GAS STATION                  12195\n",
      "Refrigeration Repair         10842\n",
      "FRONT END                     6356\n",
      "DOOR REPAIR                   6189\n",
      "HVAC                          6014\n",
      "PLUMBING-DRAINS               5932\n",
      "General Maintenance           5596\n",
      "FIRE PREVENTION               4232\n",
      "Door - Other Door Repairs     4121\n",
      "OPERATIONS REQUEST            3475\n",
      "ALARMS                        3054\n",
      "ROOF REPAIR                   2807\n",
      "Name: specialty, dtype: int64\n"
     ]
    }
   ],
   "source": [
    "print(\"Unique Specialties: \", len(raw['specialty'].value_counts()))\n",
    "print(raw['specialty'].value_counts()[:20])"
   ]
  },
  {
   "cell_type": "code",
   "execution_count": 104,
   "id": "1115b7f0-9c46-49e7-a0b8-5fe9ad9e1d74",
   "metadata": {},
   "outputs": [
    {
     "name": "stdout",
     "output_type": "stream",
     "text": [
      "Percent of Work Orders Allocated to Top 5 Specialties: 51.35%\n",
      "Percent of Work Orders Allocated to Top 10 Specialties: 73.90%\n",
      "Percent of Work Orders Allocated to Top 20 Specialties: 88.63%\n",
      "Percent of Work Orders Allocated to Top 25 Specialties: 91.86%\n"
     ]
    }
   ],
   "source": [
    "print(\"Percent of Work Orders Allocated to Top 5 Specialties: {0:.2f}%\".format(raw['specialty'].value_counts()[:5].sum() / len(raw) * 100))\n",
    "print(\"Percent of Work Orders Allocated to Top 10 Specialties: {0:.2f}%\".format(raw['specialty'].value_counts()[:10].sum() / len(raw) * 100))\n",
    "print(\"Percent of Work Orders Allocated to Top 20 Specialties: {0:.2f}%\".format(raw['specialty'].value_counts()[:20].sum() / len(raw) * 100))\n",
    "print(\"Percent of Work Orders Allocated to Top 25 Specialties: {0:.2f}%\".format(raw['specialty'].value_counts()[:25].sum() / len(raw) * 100))"
   ]
  },
  {
   "cell_type": "code",
   "execution_count": null,
   "id": "ec713d6a-8b20-4a3b-925b-afd12da32447",
   "metadata": {},
   "outputs": [],
   "source": []
  },
  {
   "cell_type": "code",
   "execution_count": 109,
   "id": "1261c0d5-7c5c-402c-aff9-71fa3fdb23f4",
   "metadata": {},
   "outputs": [
    {
     "data": {
      "image/png": "[encoded data removed]",
      "text/plain": [
       "<Figure size 864x432 with 1 Axes>"
      ]
     },
     "metadata": {
      "needs_background": "light"
     },
     "output_type": "display_data"
    }
   ],
   "source": [
    "fig, ax = plt.subplots(1,1, figsize=(12, 6))\n",
    "raw['specialty'].value_counts()[:25].plot(kind='bar', title=\"Work Orders By Specialty\", ylabel=\"Count\" ,ax=ax)\n",
    "plt.tight_layout()\n",
    "fig.savefig(\"./images/work_orders_by_specialty.png\");"
   ]
  },
  {
   "cell_type": "code",
   "execution_count": 108,
   "id": "b12d6b4f-a50e-42fa-ad21-439b9550fb0b",
   "metadata": {},
   "outputs": [
    {
     "data": {
      "image/png": "[encoded data removed]",
      "text/plain": [
       "<Figure size 864x432 with 1 Axes>"
      ]
     },
     "metadata": {
      "needs_background": "light"
     },
     "output_type": "display_data"
    }
   ],
   "source": [
    "fig, ax = plt.subplots(1,1, figsize=(12, 6))\n",
    "specailty_charged = raw.groupby(\"specialty\").agg({\"total_charged_amount\": np.sum})\n",
    "specailty_charged.sort_values(by=\"total_charged_amount\", ascending=False)[:25].plot(kind='bar', title=\"Total Charged Amount By Specialty\", logy=False, ylabel=\"$ Millions\", ax=ax)\n",
    "plt.tight_layout()\n",
    "fig.savefig(\"./images/total_charged_amount_by_specialty.png\");"
   ]
  },
  {
   "cell_type": "code",
   "execution_count": 98,
   "id": "24dbb85f-c473-4cda-a34e-6d71f786e6fc",
   "metadata": {},
   "outputs": [
    {
     "name": "stdout",
     "output_type": "stream",
     "text": [
      "Percent of Total Charged Amount Allocated to Top 5 Specialties: 65.90%\n",
      "Percent of Total Charged Amount Allocated to Top 10 Specialties: 77.66%\n",
      "Percent of Total Charged Amount Allocated to Top 20 Specialties: 89.20%\n",
      "Percent of Total Charged Amount Allocated to Top 25 Specialties: 92.49%\n"
     ]
    }
   ],
   "source": [
    "print(\"Percent of Total Charged Amount Allocated to Top 5 Specialties: {0:.2f}%\".format(\n",
    "    (specailty_charged.sort_values(by=\"total_charged_amount\", ascending=False)[:5].sum().values / raw['total_charged_amount'].sum())[0] * 100))\n",
    "print(\"Percent of Total Charged Amount Allocated to Top 10 Specialties: {0:.2f}%\".format(\n",
    "    (specailty_charged.sort_values(by=\"total_charged_amount\", ascending=False)[:10].sum().values / raw['total_charged_amount'].sum())[0] * 100))\n",
    "print(\"Percent of Total Charged Amount Allocated to Top 20 Specialties: {0:.2f}%\".format(\n",
    "    (specailty_charged.sort_values(by=\"total_charged_amount\", ascending=False)[:20].sum().values / raw['total_charged_amount'].sum())[0] * 100))\n",
    "print(\"Percent of Total Charged Amount Allocated to Top 25 Specialties: {0:.2f}%\".format(\n",
    "    (specailty_charged.sort_values(by=\"total_charged_amount\", ascending=False)[:25].sum().values / raw['total_charged_amount'].sum())[0] * 100))"
   ]
  },
  {
   "cell_type": "code",
   "execution_count": 95,
   "id": "bbedc02b-a177-43b8-8671-629b08afcf6f",
   "metadata": {},
   "outputs": [
    {
     "data": {
      "text/plain": [
       "0.9248636031286289"
      ]
     },
     "execution_count": 95,
     "metadata": {},
     "output_type": "execute_result"
    }
   ],
   "source": []
  },
  {
   "cell_type": "code",
   "execution_count": 19,
   "id": "d527d402-a187-44aa-bcda-1b0d100d46a1",
   "metadata": {},
   "outputs": [],
   "source": [
    "special_grp = raw.groupby(\"specialty\").agg(\n",
    "    {\n",
    "        \"total_cost\": [np.mean, np.std, np.max, np.min, np.var]\n",
    "    }\n",
    ")#.reset_index()"
   ]
  },
  {
   "cell_type": "code",
   "execution_count": 20,
   "id": "da511c42-2648-4e5d-ab56-8cecb9ba5020",
   "metadata": {},
   "outputs": [],
   "source": [
    "special_grp.columns = special_grp.columns.get_level_values(1)"
   ]
  },
  {
   "cell_type": "code",
   "execution_count": 21,
   "id": "0644ad38-b31c-4784-90f7-c655e555700d",
   "metadata": {},
   "outputs": [
    {
     "data": {
      "text/html": [
       "<div>\n",
       "<style scoped>\n",
       "    .dataframe tbody tr th:only-of-type {\n",
       "        vertical-align: middle;\n",
       "    }\n",
       "\n",
       "    .dataframe tbody tr th {\n",
       "        vertical-align: top;\n",
       "    }\n",
       "\n",
       "    .dataframe thead th {\n",
       "        text-align: right;\n",
       "    }\n",
       "</style>\n",
       "<table border=\"1\" class=\"dataframe\">\n",
       "  <thead>\n",
       "    <tr style=\"text-align: right;\">\n",
       "      <th></th>\n",
       "      <th>mean</th>\n",
       "      <th>std</th>\n",
       "      <th>amax</th>\n",
       "      <th>amin</th>\n",
       "      <th>var</th>\n",
       "    </tr>\n",
       "    <tr>\n",
       "      <th>specialty</th>\n",
       "      <th></th>\n",
       "      <th></th>\n",
       "      <th></th>\n",
       "      <th></th>\n",
       "      <th></th>\n",
       "    </tr>\n",
       "  </thead>\n",
       "  <tbody>\n",
       "    <tr>\n",
       "      <th>ALARMS</th>\n",
       "      <td>236.353</td>\n",
       "      <td>664.372</td>\n",
       "      <td>24008.800</td>\n",
       "      <td>0.000</td>\n",
       "      <td>441390.162</td>\n",
       "    </tr>\n",
       "    <tr>\n",
       "      <th>BUILDING</th>\n",
       "      <td>673.653</td>\n",
       "      <td>2089.147</td>\n",
       "      <td>21775.070</td>\n",
       "      <td>0.000</td>\n",
       "      <td>4364535.927</td>\n",
       "    </tr>\n",
       "    <tr>\n",
       "      <th>CARPENTRY</th>\n",
       "      <td>215.227</td>\n",
       "      <td>1081.546</td>\n",
       "      <td>78927.930</td>\n",
       "      <td>0.000</td>\n",
       "      <td>1169741.679</td>\n",
       "    </tr>\n",
       "    <tr>\n",
       "      <th>CLEANING</th>\n",
       "      <td>34.816</td>\n",
       "      <td>456.147</td>\n",
       "      <td>24001.000</td>\n",
       "      <td>0.000</td>\n",
       "      <td>208070.274</td>\n",
       "    </tr>\n",
       "    <tr>\n",
       "      <th>Compactor, Baler, Docks</th>\n",
       "      <td>0.000</td>\n",
       "      <td>0.000</td>\n",
       "      <td>0.000</td>\n",
       "      <td>0.000</td>\n",
       "      <td>0.000</td>\n",
       "    </tr>\n",
       "  </tbody>\n",
       "</table>\n",
       "</div>"
      ],
      "text/plain": [
       "                           mean      std      amax  amin         var\n",
       "specialty                                                           \n",
       "ALARMS                  236.353  664.372 24008.800 0.000  441390.162\n",
       "BUILDING                673.653 2089.147 21775.070 0.000 4364535.927\n",
       "CARPENTRY               215.227 1081.546 78927.930 0.000 1169741.679\n",
       "CLEANING                 34.816  456.147 24001.000 0.000  208070.274\n",
       "Compactor, Baler, Docks   0.000    0.000     0.000 0.000       0.000"
      ]
     },
     "execution_count": 21,
     "metadata": {},
     "output_type": "execute_result"
    }
   ],
   "source": [
    "special_grp.head()"
   ]
  },
  {
   "cell_type": "code",
   "execution_count": 111,
   "id": "6a92c918-fd84-4aeb-82ec-3be597ee93bb",
   "metadata": {
    "tags": []
   },
   "outputs": [
    {
     "data": {
      "text/plain": [
       "<AxesSubplot:xlabel='std', ylabel='mean'>"
      ]
     },
     "execution_count": 111,
     "metadata": {},
     "output_type": "execute_result"
    },
    {
     "data": {
      "image/png": "[encoded data removed]",
      "text/plain": [
       "<Figure size 432x720 with 1 Axes>"
      ]
     },
     "metadata": {
      "needs_background": "light"
     },
     "output_type": "display_data"
    }
   ],
   "source": [
    "fig, ax = plt.subplots(1,1, figsize=(6, 10))\n",
    "special_grp.sort_values(\"mean\", ascending=False)[:10].plot(x=\"std\", y=\"mean\", kind=\"scatter\", ax=ax)"
   ]
  },
  {
   "cell_type": "code",
   "execution_count": 23,
   "id": "862e0457-9d25-4a87-bbfb-def3ef241ef4",
   "metadata": {},
   "outputs": [
    {
     "data": {
      "text/plain": [
       "<AxesSubplot:xlabel='std', ylabel='mean'>"
      ]
     },
     "execution_count": 23,
     "metadata": {},
     "output_type": "execute_result"
    },
    {
     "data": {
      "image/png": "[encoded data removed]",
      "text/plain": [
       "<Figure size 432x720 with 1 Axes>"
      ]
     },
     "metadata": {
      "needs_background": "light"
     },
     "output_type": "display_data"
    }
   ],
   "source": [
    "fig, ax = plt.subplots(1,1, figsize=(6, 10))\n",
    "special_grp.plot(x=\"std\", y=\"mean\", kind=\"scatter\", ax=ax)"
   ]
  },
  {
   "cell_type": "markdown",
   "id": "aa0b6fb3-1213-4837-b4f9-de47d2d5cb99",
   "metadata": {},
   "source": [
    "### Organization"
   ]
  },
  {
   "cell_type": "code",
   "execution_count": 66,
   "id": "7f509e17-1020-4c7b-95aa-d3e61091a1f1",
   "metadata": {},
   "outputs": [],
   "source": [
    "org_grp = raw.groupby(\"organization\").agg(\n",
    "    {\n",
    "        \"total_labor_hours\": [np.mean, np.std, np.max, np.min, np.var]\n",
    "    }\n",
    ")"
   ]
  },
  {
   "cell_type": "code",
   "execution_count": 67,
   "id": "7d740226-d88e-40dc-9b3b-53cceaa747c2",
   "metadata": {},
   "outputs": [],
   "source": [
    "org_grp.columns = org_grp.columns.get_level_values(1)"
   ]
  },
  {
   "cell_type": "code",
   "execution_count": 131,
   "id": "85df1f34-194d-4074-a3c9-da398dff2802",
   "metadata": {
    "tags": []
   },
   "outputs": [
    {
     "data": {
      "text/html": [
       "<div>\n",
       "<style scoped>\n",
       "    .dataframe tbody tr th:only-of-type {\n",
       "        vertical-align: middle;\n",
       "    }\n",
       "\n",
       "    .dataframe tbody tr th {\n",
       "        vertical-align: top;\n",
       "    }\n",
       "\n",
       "    .dataframe thead th {\n",
       "        text-align: right;\n",
       "    }\n",
       "</style>\n",
       "<table border=\"1\" class=\"dataframe\">\n",
       "  <thead>\n",
       "    <tr style=\"text-align: right;\">\n",
       "      <th></th>\n",
       "      <th>mean</th>\n",
       "      <th>std</th>\n",
       "      <th>amax</th>\n",
       "      <th>amin</th>\n",
       "      <th>var</th>\n",
       "    </tr>\n",
       "    <tr>\n",
       "      <th>organization</th>\n",
       "      <th></th>\n",
       "      <th></th>\n",
       "      <th></th>\n",
       "      <th></th>\n",
       "      <th></th>\n",
       "    </tr>\n",
       "  </thead>\n",
       "  <tbody>\n",
       "    <tr>\n",
       "      <th>CW Services</th>\n",
       "      <td>2.276</td>\n",
       "      <td>4.356</td>\n",
       "      <td>117.500</td>\n",
       "      <td>0.000</td>\n",
       "      <td>18.977</td>\n",
       "    </tr>\n",
       "    <tr>\n",
       "      <th>Ahold</th>\n",
       "      <td>2.206</td>\n",
       "      <td>2.314</td>\n",
       "      <td>20.500</td>\n",
       "      <td>0.000</td>\n",
       "      <td>5.354</td>\n",
       "    </tr>\n",
       "    <tr>\n",
       "      <th>T JERMINE &amp; SONS INC</th>\n",
       "      <td>1.553</td>\n",
       "      <td>6.409</td>\n",
       "      <td>28.000</td>\n",
       "      <td>0.000</td>\n",
       "      <td>41.080</td>\n",
       "    </tr>\n",
       "    <tr>\n",
       "      <th>ENTERPRISE FLOORING INC.</th>\n",
       "      <td>1.429</td>\n",
       "      <td>3.780</td>\n",
       "      <td>10.000</td>\n",
       "      <td>0.000</td>\n",
       "      <td>14.286</td>\n",
       "    </tr>\n",
       "    <tr>\n",
       "      <th>CONSTRUCTION MAINTENANCE PLUS INC</th>\n",
       "      <td>0.609</td>\n",
       "      <td>2.812</td>\n",
       "      <td>13.500</td>\n",
       "      <td>0.000</td>\n",
       "      <td>7.908</td>\n",
       "    </tr>\n",
       "    <tr>\n",
       "      <th>S. ALBERT GLASS COMPANY INC.</th>\n",
       "      <td>0.500</td>\n",
       "      <td>1.476</td>\n",
       "      <td>6.000</td>\n",
       "      <td>0.000</td>\n",
       "      <td>2.180</td>\n",
       "    </tr>\n",
       "    <tr>\n",
       "      <th>BLY'S BUILDING MAINTENANCE LLC</th>\n",
       "      <td>0.475</td>\n",
       "      <td>1.432</td>\n",
       "      <td>8.000</td>\n",
       "      <td>0.000</td>\n",
       "      <td>2.051</td>\n",
       "    </tr>\n",
       "    <tr>\n",
       "      <th>AL GLEESON ELECTRICAL COMPANY INC.</th>\n",
       "      <td>0.391</td>\n",
       "      <td>1.339</td>\n",
       "      <td>8.500</td>\n",
       "      <td>0.000</td>\n",
       "      <td>1.793</td>\n",
       "    </tr>\n",
       "    <tr>\n",
       "      <th>NANOIA RECYCLING EQUIPMENT INC.</th>\n",
       "      <td>0.363</td>\n",
       "      <td>2.506</td>\n",
       "      <td>22.500</td>\n",
       "      <td>0.000</td>\n",
       "      <td>6.279</td>\n",
       "    </tr>\n",
       "    <tr>\n",
       "      <th>AQUATEK</th>\n",
       "      <td>0.333</td>\n",
       "      <td>0.577</td>\n",
       "      <td>1.000</td>\n",
       "      <td>0.000</td>\n",
       "      <td>0.333</td>\n",
       "    </tr>\n",
       "    <tr>\n",
       "      <th>CRITICAL POINT CONSTRUCTION LLC</th>\n",
       "      <td>0.304</td>\n",
       "      <td>2.005</td>\n",
       "      <td>30.500</td>\n",
       "      <td>0.000</td>\n",
       "      <td>4.020</td>\n",
       "    </tr>\n",
       "    <tr>\n",
       "      <th>COMMAND CORPORATION</th>\n",
       "      <td>0.250</td>\n",
       "      <td>0.500</td>\n",
       "      <td>1.000</td>\n",
       "      <td>0.000</td>\n",
       "      <td>0.250</td>\n",
       "    </tr>\n",
       "    <tr>\n",
       "      <th>CLARENCE I. STACK INC.</th>\n",
       "      <td>0.246</td>\n",
       "      <td>2.754</td>\n",
       "      <td>37.000</td>\n",
       "      <td>0.000</td>\n",
       "      <td>7.582</td>\n",
       "    </tr>\n",
       "    <tr>\n",
       "      <th>INSIGN INC</th>\n",
       "      <td>0.214</td>\n",
       "      <td>0.671</td>\n",
       "      <td>2.500</td>\n",
       "      <td>0.000</td>\n",
       "      <td>0.451</td>\n",
       "    </tr>\n",
       "    <tr>\n",
       "      <th>AMERICAN DOOR</th>\n",
       "      <td>0.163</td>\n",
       "      <td>0.450</td>\n",
       "      <td>1.750</td>\n",
       "      <td>0.000</td>\n",
       "      <td>0.202</td>\n",
       "    </tr>\n",
       "    <tr>\n",
       "      <th>MANGEAC BROS</th>\n",
       "      <td>0.146</td>\n",
       "      <td>1.198</td>\n",
       "      <td>13.500</td>\n",
       "      <td>0.000</td>\n",
       "      <td>1.435</td>\n",
       "    </tr>\n",
       "    <tr>\n",
       "      <th>GINA MARIE REFRIGERATOR DOOR SYSTEMS</th>\n",
       "      <td>0.138</td>\n",
       "      <td>1.066</td>\n",
       "      <td>14.500</td>\n",
       "      <td>0.000</td>\n",
       "      <td>1.135</td>\n",
       "    </tr>\n",
       "    <tr>\n",
       "      <th>CABIN HILL CONSTRUCTION</th>\n",
       "      <td>0.130</td>\n",
       "      <td>0.674</td>\n",
       "      <td>3.500</td>\n",
       "      <td>0.000</td>\n",
       "      <td>0.454</td>\n",
       "    </tr>\n",
       "    <tr>\n",
       "      <th>THE PEGGS COMPANY INC.</th>\n",
       "      <td>0.125</td>\n",
       "      <td>0.455</td>\n",
       "      <td>2.000</td>\n",
       "      <td>0.000</td>\n",
       "      <td>0.207</td>\n",
       "    </tr>\n",
       "    <tr>\n",
       "      <th>B W HOVERMILL CO INC</th>\n",
       "      <td>0.119</td>\n",
       "      <td>0.487</td>\n",
       "      <td>3.000</td>\n",
       "      <td>0.000</td>\n",
       "      <td>0.237</td>\n",
       "    </tr>\n",
       "    <tr>\n",
       "      <th>MASTER CHOICE CONSTRUCTION LLC</th>\n",
       "      <td>0.119</td>\n",
       "      <td>0.741</td>\n",
       "      <td>7.000</td>\n",
       "      <td>0.000</td>\n",
       "      <td>0.548</td>\n",
       "    </tr>\n",
       "    <tr>\n",
       "      <th>SUPERMARKET CHECKOUT SERVICE LLC</th>\n",
       "      <td>0.080</td>\n",
       "      <td>0.427</td>\n",
       "      <td>2.750</td>\n",
       "      <td>0.000</td>\n",
       "      <td>0.182</td>\n",
       "    </tr>\n",
       "    <tr>\n",
       "      <th>FOX GLASS OF BROOKLYN INC.</th>\n",
       "      <td>0.080</td>\n",
       "      <td>0.277</td>\n",
       "      <td>1.000</td>\n",
       "      <td>0.000</td>\n",
       "      <td>0.077</td>\n",
       "    </tr>\n",
       "    <tr>\n",
       "      <th>QUALITY CEILINGS INC</th>\n",
       "      <td>0.079</td>\n",
       "      <td>0.344</td>\n",
       "      <td>1.500</td>\n",
       "      <td>0.000</td>\n",
       "      <td>0.118</td>\n",
       "    </tr>\n",
       "    <tr>\n",
       "      <th>CCG</th>\n",
       "      <td>0.069</td>\n",
       "      <td>0.616</td>\n",
       "      <td>6.500</td>\n",
       "      <td>0.000</td>\n",
       "      <td>0.380</td>\n",
       "    </tr>\n",
       "  </tbody>\n",
       "</table>\n",
       "</div>"
      ],
      "text/plain": [
       "                                      mean   std    amax  amin    var\n",
       "organization                                                         \n",
       "CW Services                          2.276 4.356 117.500 0.000 18.977\n",
       "Ahold                                2.206 2.314  20.500 0.000  5.354\n",
       "T JERMINE & SONS INC                 1.553 6.409  28.000 0.000 41.080\n",
       "ENTERPRISE FLOORING INC.             1.429 3.780  10.000 0.000 14.286\n",
       "CONSTRUCTION MAINTENANCE PLUS INC    0.609 2.812  13.500 0.000  7.908\n",
       "S. ALBERT GLASS COMPANY INC.         0.500 1.476   6.000 0.000  2.180\n",
       "BLY'S BUILDING MAINTENANCE LLC       0.475 1.432   8.000 0.000  2.051\n",
       "AL GLEESON ELECTRICAL COMPANY INC.   0.391 1.339   8.500 0.000  1.793\n",
       "NANOIA RECYCLING EQUIPMENT INC.      0.363 2.506  22.500 0.000  6.279\n",
       "AQUATEK                              0.333 0.577   1.000 0.000  0.333\n",
       "CRITICAL POINT CONSTRUCTION LLC      0.304 2.005  30.500 0.000  4.020\n",
       "COMMAND CORPORATION                  0.250 0.500   1.000 0.000  0.250\n",
       "CLARENCE I. STACK INC.               0.246 2.754  37.000 0.000  7.582\n",
       "INSIGN INC                           0.214 0.671   2.500 0.000  0.451\n",
       "AMERICAN DOOR                        0.163 0.450   1.750 0.000  0.202\n",
       "MANGEAC BROS                         0.146 1.198  13.500 0.000  1.435\n",
       "GINA MARIE REFRIGERATOR DOOR SYSTEMS 0.138 1.066  14.500 0.000  1.135\n",
       "CABIN HILL CONSTRUCTION              0.130 0.674   3.500 0.000  0.454\n",
       "THE PEGGS COMPANY INC.               0.125 0.455   2.000 0.000  0.207\n",
       "B W HOVERMILL CO INC                 0.119 0.487   3.000 0.000  0.237\n",
       "MASTER CHOICE CONSTRUCTION LLC       0.119 0.741   7.000 0.000  0.548\n",
       "SUPERMARKET CHECKOUT SERVICE LLC     0.080 0.427   2.750 0.000  0.182\n",
       "FOX GLASS OF BROOKLYN INC.           0.080 0.277   1.000 0.000  0.077\n",
       "QUALITY CEILINGS INC                 0.079 0.344   1.500 0.000  0.118\n",
       "CCG                                  0.069 0.616   6.500 0.000  0.380"
      ]
     },
     "execution_count": 131,
     "metadata": {},
     "output_type": "execute_result"
    }
   ],
   "source": [
    "org_grp.sort_values(by=\"mean\", ascending=False).head(25)"
   ]
  },
  {
   "cell_type": "code",
   "execution_count": 27,
   "id": "6bb364e2-e9aa-4b26-92b6-36bc2148f342",
   "metadata": {},
   "outputs": [
    {
     "data": {
      "text/html": [
       "<div>\n",
       "<style scoped>\n",
       "    .dataframe tbody tr th:only-of-type {\n",
       "        vertical-align: middle;\n",
       "    }\n",
       "\n",
       "    .dataframe tbody tr th {\n",
       "        vertical-align: top;\n",
       "    }\n",
       "\n",
       "    .dataframe thead th {\n",
       "        text-align: right;\n",
       "    }\n",
       "</style>\n",
       "<table border=\"1\" class=\"dataframe\">\n",
       "  <thead>\n",
       "    <tr style=\"text-align: right;\">\n",
       "      <th></th>\n",
       "      <th>mean</th>\n",
       "      <th>std</th>\n",
       "      <th>amax</th>\n",
       "      <th>amin</th>\n",
       "      <th>var</th>\n",
       "    </tr>\n",
       "    <tr>\n",
       "      <th>organization</th>\n",
       "      <th></th>\n",
       "      <th></th>\n",
       "      <th></th>\n",
       "      <th></th>\n",
       "      <th></th>\n",
       "    </tr>\n",
       "  </thead>\n",
       "  <tbody>\n",
       "    <tr>\n",
       "      <th>CW Services</th>\n",
       "      <td>2.276</td>\n",
       "      <td>4.356</td>\n",
       "      <td>117.500</td>\n",
       "      <td>0.000</td>\n",
       "      <td>18.977</td>\n",
       "    </tr>\n",
       "    <tr>\n",
       "      <th>CLARENCE I. STACK INC.</th>\n",
       "      <td>0.246</td>\n",
       "      <td>2.754</td>\n",
       "      <td>37.000</td>\n",
       "      <td>0.000</td>\n",
       "      <td>7.582</td>\n",
       "    </tr>\n",
       "    <tr>\n",
       "      <th>CRITICAL POINT CONSTRUCTION LLC</th>\n",
       "      <td>0.304</td>\n",
       "      <td>2.005</td>\n",
       "      <td>30.500</td>\n",
       "      <td>0.000</td>\n",
       "      <td>4.020</td>\n",
       "    </tr>\n",
       "    <tr>\n",
       "      <th>T JERMINE &amp; SONS INC</th>\n",
       "      <td>1.553</td>\n",
       "      <td>6.409</td>\n",
       "      <td>28.000</td>\n",
       "      <td>0.000</td>\n",
       "      <td>41.080</td>\n",
       "    </tr>\n",
       "    <tr>\n",
       "      <th>GLYNN ELECTRIC INC.</th>\n",
       "      <td>0.056</td>\n",
       "      <td>1.130</td>\n",
       "      <td>23.000</td>\n",
       "      <td>0.000</td>\n",
       "      <td>1.278</td>\n",
       "    </tr>\n",
       "    <tr>\n",
       "      <th>NANOIA RECYCLING EQUIPMENT INC.</th>\n",
       "      <td>0.363</td>\n",
       "      <td>2.506</td>\n",
       "      <td>22.500</td>\n",
       "      <td>0.000</td>\n",
       "      <td>6.279</td>\n",
       "    </tr>\n",
       "    <tr>\n",
       "      <th>Ahold</th>\n",
       "      <td>2.206</td>\n",
       "      <td>2.314</td>\n",
       "      <td>20.500</td>\n",
       "      <td>0.000</td>\n",
       "      <td>5.354</td>\n",
       "    </tr>\n",
       "    <tr>\n",
       "      <th>HAMILTON CONTRACTING SERVICES INC</th>\n",
       "      <td>0.066</td>\n",
       "      <td>0.807</td>\n",
       "      <td>16.000</td>\n",
       "      <td>0.000</td>\n",
       "      <td>0.651</td>\n",
       "    </tr>\n",
       "    <tr>\n",
       "      <th>GINA MARIE REFRIGERATOR DOOR SYSTEMS</th>\n",
       "      <td>0.138</td>\n",
       "      <td>1.066</td>\n",
       "      <td>14.500</td>\n",
       "      <td>0.000</td>\n",
       "      <td>1.135</td>\n",
       "    </tr>\n",
       "    <tr>\n",
       "      <th>MANGEAC BROS</th>\n",
       "      <td>0.146</td>\n",
       "      <td>1.198</td>\n",
       "      <td>13.500</td>\n",
       "      <td>0.000</td>\n",
       "      <td>1.435</td>\n",
       "    </tr>\n",
       "    <tr>\n",
       "      <th>CONSTRUCTION MAINTENANCE PLUS INC</th>\n",
       "      <td>0.609</td>\n",
       "      <td>2.812</td>\n",
       "      <td>13.500</td>\n",
       "      <td>0.000</td>\n",
       "      <td>7.908</td>\n",
       "    </tr>\n",
       "    <tr>\n",
       "      <th>ENTERPRISE FLOORING INC.</th>\n",
       "      <td>1.429</td>\n",
       "      <td>3.780</td>\n",
       "      <td>10.000</td>\n",
       "      <td>0.000</td>\n",
       "      <td>14.286</td>\n",
       "    </tr>\n",
       "    <tr>\n",
       "      <th>AL GLEESON ELECTRICAL COMPANY INC.</th>\n",
       "      <td>0.391</td>\n",
       "      <td>1.339</td>\n",
       "      <td>8.500</td>\n",
       "      <td>0.000</td>\n",
       "      <td>1.793</td>\n",
       "    </tr>\n",
       "    <tr>\n",
       "      <th>BLY'S BUILDING MAINTENANCE LLC</th>\n",
       "      <td>0.475</td>\n",
       "      <td>1.432</td>\n",
       "      <td>8.000</td>\n",
       "      <td>0.000</td>\n",
       "      <td>2.051</td>\n",
       "    </tr>\n",
       "    <tr>\n",
       "      <th>FEDERAL PAINTING INC</th>\n",
       "      <td>0.051</td>\n",
       "      <td>0.441</td>\n",
       "      <td>7.500</td>\n",
       "      <td>0.000</td>\n",
       "      <td>0.194</td>\n",
       "    </tr>\n",
       "    <tr>\n",
       "      <th>MASTER CHOICE CONSTRUCTION LLC</th>\n",
       "      <td>0.119</td>\n",
       "      <td>0.741</td>\n",
       "      <td>7.000</td>\n",
       "      <td>0.000</td>\n",
       "      <td>0.548</td>\n",
       "    </tr>\n",
       "    <tr>\n",
       "      <th>CCG</th>\n",
       "      <td>0.069</td>\n",
       "      <td>0.616</td>\n",
       "      <td>6.500</td>\n",
       "      <td>0.000</td>\n",
       "      <td>0.380</td>\n",
       "    </tr>\n",
       "    <tr>\n",
       "      <th>S. ALBERT GLASS COMPANY INC.</th>\n",
       "      <td>0.500</td>\n",
       "      <td>1.476</td>\n",
       "      <td>6.000</td>\n",
       "      <td>0.000</td>\n",
       "      <td>2.180</td>\n",
       "    </tr>\n",
       "    <tr>\n",
       "      <th>I-TECH LLC</th>\n",
       "      <td>0.053</td>\n",
       "      <td>0.427</td>\n",
       "      <td>5.000</td>\n",
       "      <td>0.000</td>\n",
       "      <td>0.182</td>\n",
       "    </tr>\n",
       "    <tr>\n",
       "      <th>SRK CLEANING</th>\n",
       "      <td>0.002</td>\n",
       "      <td>0.082</td>\n",
       "      <td>4.500</td>\n",
       "      <td>0.000</td>\n",
       "      <td>0.007</td>\n",
       "    </tr>\n",
       "    <tr>\n",
       "      <th>REMCO INC OF ALLENTOWN</th>\n",
       "      <td>0.003</td>\n",
       "      <td>0.093</td>\n",
       "      <td>4.000</td>\n",
       "      <td>0.000</td>\n",
       "      <td>0.009</td>\n",
       "    </tr>\n",
       "    <tr>\n",
       "      <th>CABIN HILL CONSTRUCTION</th>\n",
       "      <td>0.130</td>\n",
       "      <td>0.674</td>\n",
       "      <td>3.500</td>\n",
       "      <td>0.000</td>\n",
       "      <td>0.454</td>\n",
       "    </tr>\n",
       "    <tr>\n",
       "      <th>O.H. BURG CORPORATION</th>\n",
       "      <td>0.056</td>\n",
       "      <td>0.445</td>\n",
       "      <td>3.500</td>\n",
       "      <td>0.000</td>\n",
       "      <td>0.198</td>\n",
       "    </tr>\n",
       "    <tr>\n",
       "      <th>B W HOVERMILL CO INC</th>\n",
       "      <td>0.119</td>\n",
       "      <td>0.487</td>\n",
       "      <td>3.000</td>\n",
       "      <td>0.000</td>\n",
       "      <td>0.237</td>\n",
       "    </tr>\n",
       "    <tr>\n",
       "      <th>BERKEL METRO</th>\n",
       "      <td>0.052</td>\n",
       "      <td>0.342</td>\n",
       "      <td>3.000</td>\n",
       "      <td>0.000</td>\n",
       "      <td>0.117</td>\n",
       "    </tr>\n",
       "  </tbody>\n",
       "</table>\n",
       "</div>"
      ],
      "text/plain": [
       "                                      mean   std    amax  amin    var\n",
       "organization                                                         \n",
       "CW Services                          2.276 4.356 117.500 0.000 18.977\n",
       "CLARENCE I. STACK INC.               0.246 2.754  37.000 0.000  7.582\n",
       "CRITICAL POINT CONSTRUCTION LLC      0.304 2.005  30.500 0.000  4.020\n",
       "T JERMINE & SONS INC                 1.553 6.409  28.000 0.000 41.080\n",
       "GLYNN ELECTRIC INC.                  0.056 1.130  23.000 0.000  1.278\n",
       "NANOIA RECYCLING EQUIPMENT INC.      0.363 2.506  22.500 0.000  6.279\n",
       "Ahold                                2.206 2.314  20.500 0.000  5.354\n",
       "HAMILTON CONTRACTING SERVICES INC    0.066 0.807  16.000 0.000  0.651\n",
       "GINA MARIE REFRIGERATOR DOOR SYSTEMS 0.138 1.066  14.500 0.000  1.135\n",
       "MANGEAC BROS                         0.146 1.198  13.500 0.000  1.435\n",
       "CONSTRUCTION MAINTENANCE PLUS INC    0.609 2.812  13.500 0.000  7.908\n",
       "ENTERPRISE FLOORING INC.             1.429 3.780  10.000 0.000 14.286\n",
       "AL GLEESON ELECTRICAL COMPANY INC.   0.391 1.339   8.500 0.000  1.793\n",
       "BLY'S BUILDING MAINTENANCE LLC       0.475 1.432   8.000 0.000  2.051\n",
       "FEDERAL PAINTING INC                 0.051 0.441   7.500 0.000  0.194\n",
       "MASTER CHOICE CONSTRUCTION LLC       0.119 0.741   7.000 0.000  0.548\n",
       "CCG                                  0.069 0.616   6.500 0.000  0.380\n",
       "S. ALBERT GLASS COMPANY INC.         0.500 1.476   6.000 0.000  2.180\n",
       "I-TECH LLC                           0.053 0.427   5.000 0.000  0.182\n",
       "SRK CLEANING                         0.002 0.082   4.500 0.000  0.007\n",
       "REMCO INC OF ALLENTOWN               0.003 0.093   4.000 0.000  0.009\n",
       "CABIN HILL CONSTRUCTION              0.130 0.674   3.500 0.000  0.454\n",
       "O.H. BURG CORPORATION                0.056 0.445   3.500 0.000  0.198\n",
       "B W HOVERMILL CO INC                 0.119 0.487   3.000 0.000  0.237\n",
       "BERKEL METRO                         0.052 0.342   3.000 0.000  0.117"
      ]
     },
     "execution_count": 27,
     "metadata": {},
     "output_type": "execute_result"
    }
   ],
   "source": [
    "org_grp.sort_values(by=\"amax\", ascending=False).head(25)"
   ]
  },
  {
   "cell_type": "code",
   "execution_count": null,
   "id": "44ab4266-92c4-4a90-ac37-422cd9056b9c",
   "metadata": {},
   "outputs": [],
   "source": [
    "#org_grp.reset_index().to_csv(\"./data/organization_labor_stats.csv\", index=False)"
   ]
  },
  {
   "cell_type": "code",
   "execution_count": 133,
   "id": "3b8adbd2-1905-41fa-a635-d31473a48458",
   "metadata": {},
   "outputs": [
    {
     "data": {
      "image/png": "[encoded data removed]",
      "text/plain": [
       "<Figure size 432x432 with 1 Axes>"
      ]
     },
     "metadata": {
      "needs_background": "light"
     },
     "output_type": "display_data"
    }
   ],
   "source": [
    "fig, ax = plt.subplots(1,1, figsize=(6, 6))\n",
    "org_grp.plot(x=\"std\", y=\"mean\", kind=\"scatter\", ax=ax, title=\"Mean Labor Hours vs Labor Hour \\nStandard Deviation by Organization\")\n",
    "plt.tight_layout()\n",
    "fig.savefig(\"./images/labor_hours_organizations.png\")"
   ]
  },
  {
   "cell_type": "code",
   "execution_count": null,
   "id": "27d5e3d0-28e7-44f2-9e91-96155759b04c",
   "metadata": {},
   "outputs": [],
   "source": []
  },
  {
   "cell_type": "code",
   "execution_count": 121,
   "id": "b1600898-0be8-41fd-a568-eb71ca6fead3",
   "metadata": {},
   "outputs": [],
   "source": [
    "state_grp = raw.groupby(\"work_order_state_prov\").agg(\n",
    "    {\n",
    "        \"wo#\": \"count\",\n",
    "        \"total_charged_amount\": np.sum\n",
    "    }\n",
    ")"
   ]
  },
  {
   "cell_type": "code",
   "execution_count": 122,
   "id": "08a10342-df1b-480d-b40a-e18fc74c7d6b",
   "metadata": {},
   "outputs": [
    {
     "data": {
      "text/html": [
       "<div>\n",
       "<style scoped>\n",
       "    .dataframe tbody tr th:only-of-type {\n",
       "        vertical-align: middle;\n",
       "    }\n",
       "\n",
       "    .dataframe tbody tr th {\n",
       "        vertical-align: top;\n",
       "    }\n",
       "\n",
       "    .dataframe thead th {\n",
       "        text-align: right;\n",
       "    }\n",
       "</style>\n",
       "<table border=\"1\" class=\"dataframe\">\n",
       "  <thead>\n",
       "    <tr style=\"text-align: right;\">\n",
       "      <th></th>\n",
       "      <th>wo#</th>\n",
       "      <th>total_charged_amount</th>\n",
       "    </tr>\n",
       "    <tr>\n",
       "      <th>work_order_state_prov</th>\n",
       "      <th></th>\n",
       "      <th></th>\n",
       "    </tr>\n",
       "  </thead>\n",
       "  <tbody>\n",
       "    <tr>\n",
       "      <th>CT</th>\n",
       "      <td>41842</td>\n",
       "      <td>10098495.980</td>\n",
       "    </tr>\n",
       "    <tr>\n",
       "      <th>DC</th>\n",
       "      <td>2142</td>\n",
       "      <td>717767.090</td>\n",
       "    </tr>\n",
       "    <tr>\n",
       "      <th>DE</th>\n",
       "      <td>2183</td>\n",
       "      <td>784413.330</td>\n",
       "    </tr>\n",
       "    <tr>\n",
       "      <th>MA</th>\n",
       "      <td>62179</td>\n",
       "      <td>14646527.900</td>\n",
       "    </tr>\n",
       "    <tr>\n",
       "      <th>MD</th>\n",
       "      <td>38866</td>\n",
       "      <td>11202930.850</td>\n",
       "    </tr>\n",
       "    <tr>\n",
       "      <th>NJ</th>\n",
       "      <td>21814</td>\n",
       "      <td>6006522.910</td>\n",
       "    </tr>\n",
       "    <tr>\n",
       "      <th>NY</th>\n",
       "      <td>38198</td>\n",
       "      <td>9771243.920</td>\n",
       "    </tr>\n",
       "    <tr>\n",
       "      <th>PA</th>\n",
       "      <td>68730</td>\n",
       "      <td>13687563.950</td>\n",
       "    </tr>\n",
       "    <tr>\n",
       "      <th>RI</th>\n",
       "      <td>12249</td>\n",
       "      <td>2786417.310</td>\n",
       "    </tr>\n",
       "    <tr>\n",
       "      <th>VA</th>\n",
       "      <td>34445</td>\n",
       "      <td>8960419.710</td>\n",
       "    </tr>\n",
       "    <tr>\n",
       "      <th>WV</th>\n",
       "      <td>1679</td>\n",
       "      <td>365301.350</td>\n",
       "    </tr>\n",
       "  </tbody>\n",
       "</table>\n",
       "</div>"
      ],
      "text/plain": [
       "                         wo#  total_charged_amount\n",
       "work_order_state_prov                             \n",
       "CT                     41842          10098495.980\n",
       "DC                      2142            717767.090\n",
       "DE                      2183            784413.330\n",
       "MA                     62179          14646527.900\n",
       "MD                     38866          11202930.850\n",
       "NJ                     21814           6006522.910\n",
       "NY                     38198           9771243.920\n",
       "PA                     68730          13687563.950\n",
       "RI                     12249           2786417.310\n",
       "VA                     34445           8960419.710\n",
       "WV                      1679            365301.350"
      ]
     },
     "execution_count": 122,
     "metadata": {},
     "output_type": "execute_result"
    }
   ],
   "source": [
    "state_grp[\"wo#\"]"
   ]
  },
  {
   "cell_type": "code",
   "execution_count": 128,
   "id": "5d8b9509-afa4-46cf-acaa-d47c22dbb2d7",
   "metadata": {},
   "outputs": [
    {
     "name": "stdout",
     "output_type": "stream",
     "text": [
      "Percent of Total Charged Amount Allocated to Top 5 States: 75.12%\n",
      "Percent of Total Charged Amount Allocated to Top 10 States: 99.47%\n",
      "Percent of Total Charged Amount Allocated to Top 20 States: 99.93%\n",
      "Percent of Total Charged Amount Allocated to Top 25 States: 99.93%\n"
     ]
    }
   ],
   "source": [
    "print(\"Percent of Total Charged Amount Allocated to Top 5 States: {0:.2f}%\".format(\n",
    "    (state_grp[\"total_charged_amount\"].sort_values(ascending=False)[:5].sum() / raw['total_charged_amount'].sum() * 100)))\n",
    "print(\"Percent of Total Charged Amount Allocated to Top 10 States: {0:.2f}%\".format(\n",
    "    (state_grp[\"total_charged_amount\"].sort_values(ascending=False)[:10].sum() / raw['total_charged_amount'].sum() * 100)))\n",
    "print(\"Percent of Total Charged Amount Allocated to Top 20 States: {0:.2f}%\".format(\n",
    "    (state_grp[\"total_charged_amount\"].sort_values(ascending=False)[:20].sum() / raw['total_charged_amount'].sum() * 100)))\n",
    "print(\"Percent of Total Charged Amount Allocated to Top 25 States: {0:.2f}%\".format(\n",
    "    (state_grp[\"total_charged_amount\"].sort_values(ascending=False)[:25].sum() / raw['total_charged_amount'].sum() * 100)))"
   ]
  },
  {
   "cell_type": "code",
   "execution_count": 130,
   "id": "0d0f6c61-331b-4043-a621-9b830572c26b",
   "metadata": {},
   "outputs": [
    {
     "data": {
      "image/png": "[encoded data removed]",
      "text/plain": [
       "<Figure size 864x432 with 1 Axes>"
      ]
     },
     "metadata": {
      "needs_background": "light"
     },
     "output_type": "display_data"
    }
   ],
   "source": [
    "fig, ax = plt.subplots(1,1, figsize=(12, 6))\n",
    "state_grp[\"total_charged_amount\"].sort_values(ascending=False).plot(kind='bar', title=\"Total Charged Amount By Specialty\", logy=False, ylabel=\"$ Millions\", ax=ax)\n",
    "plt.tight_layout()\n",
    "fig.savefig(\"./images/total_charged_amount_by_state.png\");"
   ]
  },
  {
   "cell_type": "code",
   "execution_count": null,
   "id": "49033800-a1ec-4247-b1ac-8b45913fa0dc",
   "metadata": {},
   "outputs": [],
   "source": []
  }
 ],
 "metadata": {
  "kernelspec": {
   "display_name": "Python 3",
   "language": "python",
   "name": "python3"
  },
  "language_info": {
   "codemirror_mode": {
    "name": "ipython",
    "version": 3
   },
   "file_extension": ".py",
   "mimetype": "text/x-python",
   "name": "python",
   "nbconvert_exporter": "python",
   "pygments_lexer": "ipython3",
   "version": "3.7.6"
  }
 },
 "nbformat": 4,
 "nbformat_minor": 5
}
